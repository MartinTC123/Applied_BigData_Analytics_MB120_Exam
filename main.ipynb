{
 "cells": [
  {
   "cell_type": "code",
   "execution_count": 1,
   "metadata": {},
   "outputs": [],
   "source": [
    "from Stock import *"
   ]
  },
  {
   "cell_type": "code",
   "execution_count": 2,
   "metadata": {},
   "outputs": [],
   "source": [
    "start_date = \"2012-01-01\"\n",
    "end_date = dt.date.today()\n",
    "analysis_interval = \"1d\"\n",
    "main_feature = \"Adj Close\""
   ]
  },
  {
   "cell_type": "code",
   "execution_count": 3,
   "metadata": {},
   "outputs": [
    {
     "name": "stdout",
     "output_type": "stream",
     "text": [
      "Downloading EQNR.OL data\n",
      "[*********************100%***********************]  1 of 1 completed\n",
      "Downloading DNB.OL data\n",
      "[*********************100%***********************]  1 of 1 completed\n",
      "Downloading TEL.OL data\n",
      "[*********************100%***********************]  1 of 1 completed\n",
      "Downloading NHY.OL data\n",
      "[*********************100%***********************]  1 of 1 completed\n",
      "Downloading AKRBP.OL data\n",
      "[*********************100%***********************]  1 of 1 completed\n",
      "Downloading YAR.OL data\n",
      "[*********************100%***********************]  1 of 1 completed\n",
      "Downloading MOWI.OL data\n",
      "[*********************100%***********************]  1 of 1 completed\n",
      "Downloading CL=F data\n",
      "[*********************100%***********************]  1 of 1 completed\n",
      "Downloading OSEBX.OL data\n",
      "[*********************100%***********************]  1 of 1 completed\n",
      "Download of stock data is completed\n"
     ]
    }
   ],
   "source": [
    "stocks_list = [\"EQNR.OL\", \"DNB.OL\", \"TEL.OL\", \"NHY.OL\", \"AKRBP.OL\", \"YAR.OL\", \"MOWI.OL\", \"CL=F\", \"OSEBX.OL\"]\n",
    "currency_list = [\"NOK=X\", \"GBPNOK=X\", \"EURNOK=X\"]\n",
    "\n",
    "Stock_data = Stock_analysis(\n",
    "    stocks_list, \n",
    "    start_date=start_date, \n",
    "    end_date=end_date, \n",
    "    interval=analysis_interval, \n",
    "    main_feature=main_feature\n",
    ")\n",
    "\n",
    "for ticker in stocks_list:\n",
    "    Stock_data.stock_data[ticker].to_csv(\"Saved_Data/rawdata_\"+ticker+\".csv\")"
   ]
  },
  {
   "cell_type": "code",
   "execution_count": null,
   "metadata": {},
   "outputs": [],
   "source": []
  },
  {
   "cell_type": "code",
   "execution_count": null,
   "metadata": {},
   "outputs": [],
   "source": []
  }
 ],
 "metadata": {
  "kernelspec": {
   "display_name": "Python 3.10.11 64-bit",
   "language": "python",
   "name": "python3"
  },
  "language_info": {
   "codemirror_mode": {
    "name": "ipython",
    "version": 3
   },
   "file_extension": ".py",
   "mimetype": "text/x-python",
   "name": "python",
   "nbconvert_exporter": "python",
   "pygments_lexer": "ipython3",
   "version": "3.10.11"
  },
  "orig_nbformat": 4,
  "vscode": {
   "interpreter": {
    "hash": "aee8b7b246df8f9039afb4144a1f6fd8d2ca17a180786b69acc140d282b71a49"
   }
  }
 },
 "nbformat": 4,
 "nbformat_minor": 2
}
