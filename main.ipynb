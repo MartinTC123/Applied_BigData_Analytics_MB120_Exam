{
 "cells": [
  {
   "cell_type": "code",
   "execution_count": 1,
   "metadata": {},
   "outputs": [],
   "source": [
    "from Stock import *"
   ]
  },
  {
   "cell_type": "code",
   "execution_count": 2,
   "metadata": {},
   "outputs": [],
   "source": [
    "start_date = \"2012-01-01\"\n",
    "end_date = dt.date.today()\n",
    "analysis_interval = \"1d\"\n",
    "main_feature = \"Adj Close\""
   ]
  },
  {
   "cell_type": "code",
   "execution_count": 3,
   "metadata": {},
   "outputs": [
    {
     "name": "stdout",
     "output_type": "stream",
     "text": [
      "Downloading EQNR.OL data\n",
      "[*********************100%***********************]  1 of 1 completed\n",
      "Downloading DNB.OL data\n",
      "[*********************100%***********************]  1 of 1 completed\n",
      "Downloading TEL.OL data\n",
      "[*********************100%***********************]  1 of 1 completed\n",
      "Downloading NHY.OL data\n",
      "[*********************100%***********************]  1 of 1 completed\n",
      "Downloading AKRBP.OL data\n",
      "[*********************100%***********************]  1 of 1 completed\n",
      "Downloading YAR.OL data\n",
      "[*********************100%***********************]  1 of 1 completed\n",
      "Downloading MOWI.OL data\n",
      "[*********************100%***********************]  1 of 1 completed\n",
      "Downloading CL=F data\n",
      "[*********************100%***********************]  1 of 1 completed\n",
      "Downloading OSEBX.OL data\n",
      "[*********************100%***********************]  1 of 1 completed\n",
      "Downloading stock data is completed\n"
     ]
    }
   ],
   "source": [
    "stocks_list = [\"EQNR.OL\", \"DNB.OL\", \"TEL.OL\", \"NHY.OL\", \"AKRBP.OL\", \"YAR.OL\", \"MOWI.OL\", \"CL=F\", \"OSEBX.OL\"]\n",
    "\n",
    "Stock_data = Stock_analysis(\n",
    "    stocks_list, \n",
    "    start_date=start_date, \n",
    "    end_date=end_date, \n",
    "    interval=analysis_interval, \n",
    "    main_feature=main_feature\n",
    ")\n",
    "\n",
    "#for ticker in stocks_list:\n",
    "#    Stock_data.stock_data[ticker].to_csv(\"Saved_Data/rawdata_\"+ticker+\".csv\")"
   ]
  },
  {
   "cell_type": "code",
   "execution_count": 4,
   "metadata": {},
   "outputs": [
    {
     "name": "stdout",
     "output_type": "stream",
     "text": [
      "Shape of X: (2646, 10)\n",
      "Shape of y: (2646,)\n"
     ]
    },
    {
     "ename": "ValueError",
     "evalue": "'r^2' is not a valid scoring value. Use sklearn.metrics.get_scorer_names() to get valid options.",
     "output_type": "error",
     "traceback": [
      "\u001b[0;31m---------------------------------------------------------------------------\u001b[0m",
      "\u001b[0;31mKeyError\u001b[0m                                  Traceback (most recent call last)",
      "File \u001b[0;32m/Library/Frameworks/Python.framework/Versions/3.10/lib/python3.10/site-packages/sklearn/metrics/_scorer.py:430\u001b[0m, in \u001b[0;36mget_scorer\u001b[0;34m(scoring)\u001b[0m\n\u001b[1;32m    429\u001b[0m \u001b[39mtry\u001b[39;00m:\n\u001b[0;32m--> 430\u001b[0m     scorer \u001b[39m=\u001b[39m copy\u001b[39m.\u001b[39mdeepcopy(_SCORERS[scoring])\n\u001b[1;32m    431\u001b[0m \u001b[39mexcept\u001b[39;00m \u001b[39mKeyError\u001b[39;00m:\n",
      "\u001b[0;31mKeyError\u001b[0m: 'r^2'",
      "\nDuring handling of the above exception, another exception occurred:\n",
      "\u001b[0;31mValueError\u001b[0m                                Traceback (most recent call last)",
      "Cell \u001b[0;32mIn[4], line 1\u001b[0m\n\u001b[0;32m----> 1\u001b[0m stocks_cross_vals_results \u001b[38;5;241m=\u001b[39m \u001b[43mStock_data\u001b[49m\u001b[38;5;241;43m.\u001b[39;49m\u001b[43mtrain_models\u001b[49m\u001b[43m(\u001b[49m\u001b[43minput_models\u001b[49m\u001b[38;5;241;43m=\u001b[39;49m\u001b[43m[\u001b[49m\u001b[38;5;124;43m\"\u001b[39;49m\u001b[38;5;124;43mLinear\u001b[39;49m\u001b[38;5;124;43m\"\u001b[39;49m\u001b[43m,\u001b[49m\u001b[43m \u001b[49m\u001b[38;5;124;43m\"\u001b[39;49m\u001b[38;5;124;43mDTR\u001b[39;49m\u001b[38;5;124;43m\"\u001b[39;49m\u001b[43m]\u001b[49m\u001b[43m)\u001b[49m\n",
      "File \u001b[0;32m~/Desktop/Business analytics/Applied and Big Data analytics/Exam_ny/Stock.py:165\u001b[0m, in \u001b[0;36mStock_analysis.train_models\u001b[0;34m(self, input_models)\u001b[0m\n\u001b[1;32m    163\u001b[0m     \u001b[39mfor\u001b[39;00m metric_name \u001b[39min\u001b[39;00m \u001b[39mself\u001b[39m\u001b[39m.\u001b[39mmetric_names:\n\u001b[1;32m    164\u001b[0m         metric_dict[metric_name] \u001b[39m=\u001b[39m metric_name\n\u001b[0;32m--> 165\u001b[0m     cross_val_results \u001b[39m=\u001b[39m cross_validate(\n\u001b[1;32m    166\u001b[0m         model,\n\u001b[1;32m    167\u001b[0m         X,\n\u001b[1;32m    168\u001b[0m         y,\n\u001b[1;32m    169\u001b[0m         cv\u001b[39m=\u001b[39;49m\u001b[39mself\u001b[39;49m\u001b[39m.\u001b[39;49msplit,\n\u001b[1;32m    170\u001b[0m         scoring\u001b[39m=\u001b[39;49mmetric_dict,\n\u001b[1;32m    171\u001b[0m         return_train_score\u001b[39m=\u001b[39;49m\u001b[39mTrue\u001b[39;49;00m,\n\u001b[1;32m    172\u001b[0m         n_jobs\u001b[39m=\u001b[39;49m\u001b[39m-\u001b[39;49m\u001b[39m1\u001b[39;49m,\n\u001b[1;32m    173\u001b[0m         verbose\u001b[39m=\u001b[39;49m\u001b[39m0\u001b[39;49m  \n\u001b[1;32m    174\u001b[0m     )\n\u001b[1;32m    175\u001b[0m     model\u001b[39m.\u001b[39mfit(X_train, y_train)\n\u001b[1;32m    176\u001b[0m \u001b[39m# MÅ LEGGE TIL ELSE CLAUSE DERSOM MODEL ER I keras_models\u001b[39;00m\n",
      "File \u001b[0;32m/Library/Frameworks/Python.framework/Versions/3.10/lib/python3.10/site-packages/sklearn/model_selection/_validation.py:261\u001b[0m, in \u001b[0;36mcross_validate\u001b[0;34m(estimator, X, y, groups, scoring, cv, n_jobs, verbose, fit_params, pre_dispatch, return_train_score, return_estimator, error_score)\u001b[0m\n\u001b[1;32m    259\u001b[0m     scorers \u001b[39m=\u001b[39m check_scoring(estimator, scoring)\n\u001b[1;32m    260\u001b[0m \u001b[39melse\u001b[39;00m:\n\u001b[0;32m--> 261\u001b[0m     scorers \u001b[39m=\u001b[39m _check_multimetric_scoring(estimator, scoring)\n\u001b[1;32m    263\u001b[0m \u001b[39m# We clone the estimator to make sure that all the folds are\u001b[39;00m\n\u001b[1;32m    264\u001b[0m \u001b[39m# independent, and that it is pickle-able.\u001b[39;00m\n\u001b[1;32m    265\u001b[0m parallel \u001b[39m=\u001b[39m Parallel(n_jobs\u001b[39m=\u001b[39mn_jobs, verbose\u001b[39m=\u001b[39mverbose, pre_dispatch\u001b[39m=\u001b[39mpre_dispatch)\n",
      "File \u001b[0;32m/Library/Frameworks/Python.framework/Versions/3.10/lib/python3.10/site-packages/sklearn/metrics/_scorer.py:595\u001b[0m, in \u001b[0;36m_check_multimetric_scoring\u001b[0;34m(estimator, scoring)\u001b[0m\n\u001b[1;32m    593\u001b[0m     \u001b[39mif\u001b[39;00m \u001b[39mlen\u001b[39m(keys) \u001b[39m==\u001b[39m \u001b[39m0\u001b[39m:\n\u001b[1;32m    594\u001b[0m         \u001b[39mraise\u001b[39;00m \u001b[39mValueError\u001b[39;00m(\u001b[39mf\u001b[39m\u001b[39m\"\u001b[39m\u001b[39mAn empty dict was passed. \u001b[39m\u001b[39m{\u001b[39;00mscoring\u001b[39m!r}\u001b[39;00m\u001b[39m\"\u001b[39m)\n\u001b[0;32m--> 595\u001b[0m     scorers \u001b[39m=\u001b[39m {\n\u001b[1;32m    596\u001b[0m         key: check_scoring(estimator, scoring\u001b[39m=\u001b[39mscorer)\n\u001b[1;32m    597\u001b[0m         \u001b[39mfor\u001b[39;00m key, scorer \u001b[39min\u001b[39;00m scoring\u001b[39m.\u001b[39mitems()\n\u001b[1;32m    598\u001b[0m     }\n\u001b[1;32m    599\u001b[0m \u001b[39melse\u001b[39;00m:\n\u001b[1;32m    600\u001b[0m     \u001b[39mraise\u001b[39;00m \u001b[39mValueError\u001b[39;00m(err_msg_generic)\n",
      "File \u001b[0;32m/Library/Frameworks/Python.framework/Versions/3.10/lib/python3.10/site-packages/sklearn/metrics/_scorer.py:596\u001b[0m, in \u001b[0;36m<dictcomp>\u001b[0;34m(.0)\u001b[0m\n\u001b[1;32m    593\u001b[0m     \u001b[39mif\u001b[39;00m \u001b[39mlen\u001b[39m(keys) \u001b[39m==\u001b[39m \u001b[39m0\u001b[39m:\n\u001b[1;32m    594\u001b[0m         \u001b[39mraise\u001b[39;00m \u001b[39mValueError\u001b[39;00m(\u001b[39mf\u001b[39m\u001b[39m\"\u001b[39m\u001b[39mAn empty dict was passed. \u001b[39m\u001b[39m{\u001b[39;00mscoring\u001b[39m!r}\u001b[39;00m\u001b[39m\"\u001b[39m)\n\u001b[1;32m    595\u001b[0m     scorers \u001b[39m=\u001b[39m {\n\u001b[0;32m--> 596\u001b[0m         key: check_scoring(estimator, scoring\u001b[39m=\u001b[39;49mscorer)\n\u001b[1;32m    597\u001b[0m         \u001b[39mfor\u001b[39;00m key, scorer \u001b[39min\u001b[39;00m scoring\u001b[39m.\u001b[39mitems()\n\u001b[1;32m    598\u001b[0m     }\n\u001b[1;32m    599\u001b[0m \u001b[39melse\u001b[39;00m:\n\u001b[1;32m    600\u001b[0m     \u001b[39mraise\u001b[39;00m \u001b[39mValueError\u001b[39;00m(err_msg_generic)\n",
      "File \u001b[0;32m/Library/Frameworks/Python.framework/Versions/3.10/lib/python3.10/site-packages/sklearn/metrics/_scorer.py:479\u001b[0m, in \u001b[0;36mcheck_scoring\u001b[0;34m(estimator, scoring, allow_none)\u001b[0m\n\u001b[1;32m    474\u001b[0m     \u001b[39mraise\u001b[39;00m \u001b[39mTypeError\u001b[39;00m(\n\u001b[1;32m    475\u001b[0m         \u001b[39m\"\u001b[39m\u001b[39mestimator should be an estimator implementing \u001b[39m\u001b[39m'\u001b[39m\u001b[39mfit\u001b[39m\u001b[39m'\u001b[39m\u001b[39m method, \u001b[39m\u001b[39m%r\u001b[39;00m\u001b[39m was passed\u001b[39m\u001b[39m\"\u001b[39m\n\u001b[1;32m    476\u001b[0m         \u001b[39m%\u001b[39m estimator\n\u001b[1;32m    477\u001b[0m     )\n\u001b[1;32m    478\u001b[0m \u001b[39mif\u001b[39;00m \u001b[39misinstance\u001b[39m(scoring, \u001b[39mstr\u001b[39m):\n\u001b[0;32m--> 479\u001b[0m     \u001b[39mreturn\u001b[39;00m get_scorer(scoring)\n\u001b[1;32m    480\u001b[0m \u001b[39melif\u001b[39;00m \u001b[39mcallable\u001b[39m(scoring):\n\u001b[1;32m    481\u001b[0m     \u001b[39m# Heuristic to ensure user has not passed a metric\u001b[39;00m\n\u001b[1;32m    482\u001b[0m     module \u001b[39m=\u001b[39m \u001b[39mgetattr\u001b[39m(scoring, \u001b[39m\"\u001b[39m\u001b[39m__module__\u001b[39m\u001b[39m\"\u001b[39m, \u001b[39mNone\u001b[39;00m)\n",
      "File \u001b[0;32m/Library/Frameworks/Python.framework/Versions/3.10/lib/python3.10/site-packages/sklearn/metrics/_scorer.py:432\u001b[0m, in \u001b[0;36mget_scorer\u001b[0;34m(scoring)\u001b[0m\n\u001b[1;32m    430\u001b[0m         scorer \u001b[39m=\u001b[39m copy\u001b[39m.\u001b[39mdeepcopy(_SCORERS[scoring])\n\u001b[1;32m    431\u001b[0m     \u001b[39mexcept\u001b[39;00m \u001b[39mKeyError\u001b[39;00m:\n\u001b[0;32m--> 432\u001b[0m         \u001b[39mraise\u001b[39;00m \u001b[39mValueError\u001b[39;00m(\n\u001b[1;32m    433\u001b[0m             \u001b[39m\"\u001b[39m\u001b[39m%r\u001b[39;00m\u001b[39m is not a valid scoring value. \u001b[39m\u001b[39m\"\u001b[39m\n\u001b[1;32m    434\u001b[0m             \u001b[39m\"\u001b[39m\u001b[39mUse sklearn.metrics.get_scorer_names() \u001b[39m\u001b[39m\"\u001b[39m\n\u001b[1;32m    435\u001b[0m             \u001b[39m\"\u001b[39m\u001b[39mto get valid options.\u001b[39m\u001b[39m\"\u001b[39m \u001b[39m%\u001b[39m scoring\n\u001b[1;32m    436\u001b[0m         )\n\u001b[1;32m    437\u001b[0m \u001b[39melse\u001b[39;00m:\n\u001b[1;32m    438\u001b[0m     scorer \u001b[39m=\u001b[39m scoring\n",
      "\u001b[0;31mValueError\u001b[0m: 'r^2' is not a valid scoring value. Use sklearn.metrics.get_scorer_names() to get valid options."
     ]
    }
   ],
   "source": [
    "stocks_cross_vals_results = Stock_data.train_models(input_models=[\"Linear\", \"DTR\"])\n",
    "print(stocks_cross_vals_results)"
   ]
  },
  {
   "cell_type": "code",
   "execution_count": null,
   "metadata": {},
   "outputs": [],
   "source": []
  }
 ],
 "metadata": {
  "kernelspec": {
   "display_name": "Python 3.10.11 64-bit",
   "language": "python",
   "name": "python3"
  },
  "language_info": {
   "codemirror_mode": {
    "name": "ipython",
    "version": 3
   },
   "file_extension": ".py",
   "mimetype": "text/x-python",
   "name": "python",
   "nbconvert_exporter": "python",
   "pygments_lexer": "ipython3",
   "version": "3.10.11"
  },
  "orig_nbformat": 4,
  "vscode": {
   "interpreter": {
    "hash": "aee8b7b246df8f9039afb4144a1f6fd8d2ca17a180786b69acc140d282b71a49"
   }
  }
 },
 "nbformat": 4,
 "nbformat_minor": 2
}
